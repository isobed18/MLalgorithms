{
 "cells": [
  {
   "cell_type": "code",
   "execution_count": 2,
   "id": "e28f24ac-18cf-4513-a3de-fbd3f7bea4f6",
   "metadata": {
    "scrolled": true
   },
   "outputs": [],
   "source": [
    "import pandas as pd\n",
    "import numpy as np\n",
    "import matplotlib.pyplot as plt\n",
    "import seaborn as sns\n",
    "from sklearn.datasets import load_breast_cancer\n",
    "from sklearn.model_selection import train_test_split\n",
    "from sklearn.preprocessing import StandardScaler\n",
    "from sklearn.linear_model import LogisticRegression\n",
    "from sklearn.svm import SVC\n",
    "from sklearn.neighbors import KNeighborsClassifier\n",
    "from sklearn.tree import DecisionTreeClassifier\n",
    "from sklearn.ensemble import RandomForestClassifier\n",
    "from sklearn.metrics import classification_report, confusion_matrix, accuracy_score, roc_auc_score, roc_curve"
   ]
  },
  {
   "cell_type": "code",
   "execution_count": 3,
   "id": "7bf764f1-94f9-4b59-904f-4f8b757bb050",
   "metadata": {
    "scrolled": true
   },
   "outputs": [],
   "source": [
    "cancer = load_breast_cancer()\n",
    "df = pd.DataFrame(cancer.data, columns=cancer.feature_names)\n",
    "df['target'] = cancer.target"
   ]
  },
  {
   "cell_type": "code",
   "execution_count": 4,
   "id": "f0ad8a0f-7495-4dd3-ae62-3cb4a278f86b",
   "metadata": {
    "scrolled": true
   },
   "outputs": [
    {
     "name": "stdout",
     "output_type": "stream",
     "text": [
      "İlk 5 Satır:\n",
      "    mean radius  mean texture  mean perimeter  mean area  mean smoothness  \\\n",
      "0        17.99         10.38          122.80     1001.0          0.11840   \n",
      "1        20.57         17.77          132.90     1326.0          0.08474   \n",
      "2        19.69         21.25          130.00     1203.0          0.10960   \n",
      "3        11.42         20.38           77.58      386.1          0.14250   \n",
      "4        20.29         14.34          135.10     1297.0          0.10030   \n",
      "\n",
      "   mean compactness  mean concavity  mean concave points  mean symmetry  \\\n",
      "0           0.27760          0.3001              0.14710         0.2419   \n",
      "1           0.07864          0.0869              0.07017         0.1812   \n",
      "2           0.15990          0.1974              0.12790         0.2069   \n",
      "3           0.28390          0.2414              0.10520         0.2597   \n",
      "4           0.13280          0.1980              0.10430         0.1809   \n",
      "\n",
      "   mean fractal dimension  ...  worst texture  worst perimeter  worst area  \\\n",
      "0                 0.07871  ...          17.33           184.60      2019.0   \n",
      "1                 0.05667  ...          23.41           158.80      1956.0   \n",
      "2                 0.05999  ...          25.53           152.50      1709.0   \n",
      "3                 0.09744  ...          26.50            98.87       567.7   \n",
      "4                 0.05883  ...          16.67           152.20      1575.0   \n",
      "\n",
      "   worst smoothness  worst compactness  worst concavity  worst concave points  \\\n",
      "0            0.1622             0.6656           0.7119                0.2654   \n",
      "1            0.1238             0.1866           0.2416                0.1860   \n",
      "2            0.1444             0.4245           0.4504                0.2430   \n",
      "3            0.2098             0.8663           0.6869                0.2575   \n",
      "4            0.1374             0.2050           0.4000                0.1625   \n",
      "\n",
      "   worst symmetry  worst fractal dimension  target  \n",
      "0          0.4601                  0.11890       0  \n",
      "1          0.2750                  0.08902       0  \n",
      "2          0.3613                  0.08758       0  \n",
      "3          0.6638                  0.17300       0  \n",
      "4          0.2364                  0.07678       0  \n",
      "\n",
      "[5 rows x 31 columns]\n"
     ]
    }
   ],
   "source": [
    "print(\"İlk 5 Satır:\\n\", df.head())"
   ]
  },
  {
   "cell_type": "code",
   "execution_count": 5,
   "id": "f44ff95e-7273-4f64-a7f6-a5c933d889e8",
   "metadata": {},
   "outputs": [
    {
     "name": "stdout",
     "output_type": "stream",
     "text": [
      "<class 'pandas.core.frame.DataFrame'>\n",
      "RangeIndex: 569 entries, 0 to 568\n",
      "Data columns (total 31 columns):\n",
      " #   Column                   Non-Null Count  Dtype  \n",
      "---  ------                   --------------  -----  \n",
      " 0   mean radius              569 non-null    float64\n",
      " 1   mean texture             569 non-null    float64\n",
      " 2   mean perimeter           569 non-null    float64\n",
      " 3   mean area                569 non-null    float64\n",
      " 4   mean smoothness          569 non-null    float64\n",
      " 5   mean compactness         569 non-null    float64\n",
      " 6   mean concavity           569 non-null    float64\n",
      " 7   mean concave points      569 non-null    float64\n",
      " 8   mean symmetry            569 non-null    float64\n",
      " 9   mean fractal dimension   569 non-null    float64\n",
      " 10  radius error             569 non-null    float64\n",
      " 11  texture error            569 non-null    float64\n",
      " 12  perimeter error          569 non-null    float64\n",
      " 13  area error               569 non-null    float64\n",
      " 14  smoothness error         569 non-null    float64\n",
      " 15  compactness error        569 non-null    float64\n",
      " 16  concavity error          569 non-null    float64\n",
      " 17  concave points error     569 non-null    float64\n",
      " 18  symmetry error           569 non-null    float64\n",
      " 19  fractal dimension error  569 non-null    float64\n",
      " 20  worst radius             569 non-null    float64\n",
      " 21  worst texture            569 non-null    float64\n",
      " 22  worst perimeter          569 non-null    float64\n",
      " 23  worst area               569 non-null    float64\n",
      " 24  worst smoothness         569 non-null    float64\n",
      " 25  worst compactness        569 non-null    float64\n",
      " 26  worst concavity          569 non-null    float64\n",
      " 27  worst concave points     569 non-null    float64\n",
      " 28  worst symmetry           569 non-null    float64\n",
      " 29  worst fractal dimension  569 non-null    float64\n",
      " 30  target                   569 non-null    int64  \n",
      "dtypes: float64(30), int64(1)\n",
      "memory usage: 137.9 KB\n",
      "\n",
      "Veri Seti Bilgileri:\n",
      " None\n"
     ]
    }
   ],
   "source": [
    "print(\"\\nVeri Seti Bilgileri:\\n\", df.info())"
   ]
  },
  {
   "cell_type": "code",
   "execution_count": 6,
   "id": "ed958610-aaf0-4d1f-9bfa-cc71628b26e7",
   "metadata": {},
   "outputs": [
    {
     "name": "stdout",
     "output_type": "stream",
     "text": [
      "\n",
      "Betimsel İstatistikler:\n",
      "                          count        mean         std         min  \\\n",
      "mean radius              569.0   14.127292    3.524049    6.981000   \n",
      "mean texture             569.0   19.289649    4.301036    9.710000   \n",
      "mean perimeter           569.0   91.969033   24.298981   43.790000   \n",
      "mean area                569.0  654.889104  351.914129  143.500000   \n",
      "mean smoothness          569.0    0.096360    0.014064    0.052630   \n",
      "mean compactness         569.0    0.104341    0.052813    0.019380   \n",
      "mean concavity           569.0    0.088799    0.079720    0.000000   \n",
      "mean concave points      569.0    0.048919    0.038803    0.000000   \n",
      "mean symmetry            569.0    0.181162    0.027414    0.106000   \n",
      "mean fractal dimension   569.0    0.062798    0.007060    0.049960   \n",
      "radius error             569.0    0.405172    0.277313    0.111500   \n",
      "texture error            569.0    1.216853    0.551648    0.360200   \n",
      "perimeter error          569.0    2.866059    2.021855    0.757000   \n",
      "area error               569.0   40.337079   45.491006    6.802000   \n",
      "smoothness error         569.0    0.007041    0.003003    0.001713   \n",
      "compactness error        569.0    0.025478    0.017908    0.002252   \n",
      "concavity error          569.0    0.031894    0.030186    0.000000   \n",
      "concave points error     569.0    0.011796    0.006170    0.000000   \n",
      "symmetry error           569.0    0.020542    0.008266    0.007882   \n",
      "fractal dimension error  569.0    0.003795    0.002646    0.000895   \n",
      "worst radius             569.0   16.269190    4.833242    7.930000   \n",
      "worst texture            569.0   25.677223    6.146258   12.020000   \n",
      "worst perimeter          569.0  107.261213   33.602542   50.410000   \n",
      "worst area               569.0  880.583128  569.356993  185.200000   \n",
      "worst smoothness         569.0    0.132369    0.022832    0.071170   \n",
      "worst compactness        569.0    0.254265    0.157336    0.027290   \n",
      "worst concavity          569.0    0.272188    0.208624    0.000000   \n",
      "worst concave points     569.0    0.114606    0.065732    0.000000   \n",
      "worst symmetry           569.0    0.290076    0.061867    0.156500   \n",
      "worst fractal dimension  569.0    0.083946    0.018061    0.055040   \n",
      "target                   569.0    0.627417    0.483918    0.000000   \n",
      "\n",
      "                                25%         50%          75%         max  \n",
      "mean radius               11.700000   13.370000    15.780000    28.11000  \n",
      "mean texture              16.170000   18.840000    21.800000    39.28000  \n",
      "mean perimeter            75.170000   86.240000   104.100000   188.50000  \n",
      "mean area                420.300000  551.100000   782.700000  2501.00000  \n",
      "mean smoothness            0.086370    0.095870     0.105300     0.16340  \n",
      "mean compactness           0.064920    0.092630     0.130400     0.34540  \n",
      "mean concavity             0.029560    0.061540     0.130700     0.42680  \n",
      "mean concave points        0.020310    0.033500     0.074000     0.20120  \n",
      "mean symmetry              0.161900    0.179200     0.195700     0.30400  \n",
      "mean fractal dimension     0.057700    0.061540     0.066120     0.09744  \n",
      "radius error               0.232400    0.324200     0.478900     2.87300  \n",
      "texture error              0.833900    1.108000     1.474000     4.88500  \n",
      "perimeter error            1.606000    2.287000     3.357000    21.98000  \n",
      "area error                17.850000   24.530000    45.190000   542.20000  \n",
      "smoothness error           0.005169    0.006380     0.008146     0.03113  \n",
      "compactness error          0.013080    0.020450     0.032450     0.13540  \n",
      "concavity error            0.015090    0.025890     0.042050     0.39600  \n",
      "concave points error       0.007638    0.010930     0.014710     0.05279  \n",
      "symmetry error             0.015160    0.018730     0.023480     0.07895  \n",
      "fractal dimension error    0.002248    0.003187     0.004558     0.02984  \n",
      "worst radius              13.010000   14.970000    18.790000    36.04000  \n",
      "worst texture             21.080000   25.410000    29.720000    49.54000  \n",
      "worst perimeter           84.110000   97.660000   125.400000   251.20000  \n",
      "worst area               515.300000  686.500000  1084.000000  4254.00000  \n",
      "worst smoothness           0.116600    0.131300     0.146000     0.22260  \n",
      "worst compactness          0.147200    0.211900     0.339100     1.05800  \n",
      "worst concavity            0.114500    0.226700     0.382900     1.25200  \n",
      "worst concave points       0.064930    0.099930     0.161400     0.29100  \n",
      "worst symmetry             0.250400    0.282200     0.317900     0.66380  \n",
      "worst fractal dimension    0.071460    0.080040     0.092080     0.20750  \n",
      "target                     0.000000    1.000000     1.000000     1.00000  \n"
     ]
    }
   ],
   "source": [
    "print(\"\\nBetimsel İstatistikler:\\n\", df.describe().T)"
   ]
  },
  {
   "cell_type": "code",
   "execution_count": 7,
   "id": "396a128d-cd9c-4cda-a17e-cc7643919084",
   "metadata": {},
   "outputs": [
    {
     "name": "stdout",
     "output_type": "stream",
     "text": [
      "\n",
      "Hedef Değişken Dağılımı:\n",
      " target\n",
      "1    357\n",
      "0    212\n",
      "Name: count, dtype: int64\n"
     ]
    }
   ],
   "source": [
    "print(\"\\nHedef Değişken Dağılımı:\\n\", df['target'].value_counts())"
   ]
  },
  {
   "cell_type": "code",
   "execution_count": 8,
   "id": "643fa855-93da-4eca-a87d-794840acceb9",
   "metadata": {},
   "outputs": [
    {
     "data": {
      "image/png": "[encoded data removed]",
      "text/plain": [
       "<Figure size 640x480 with 1 Axes>"
      ]
     },
     "metadata": {},
     "output_type": "display_data"
    }
   ],
   "source": [
    "sns.countplot(x='target', data=df)\n",
    "plt.title('Hedef Değişken Dağılımı (0: Kötü Huylu, 1: İyi Huylu)')\n",
    "plt.show()"
   ]
  },
  {
   "cell_type": "code",
   "execution_count": 9,
   "id": "de3ce826-c8c2-4a19-a8e3-7c6335e0d0b9",
   "metadata": {
    "scrolled": true
   },
   "outputs": [
    {
     "name": "stdout",
     "output_type": "stream",
     "text": [
      "\n",
      "Eksik Değer Sayısı:\n",
      " mean radius                0\n",
      "mean texture               0\n",
      "mean perimeter             0\n",
      "mean area                  0\n",
      "mean smoothness            0\n",
      "mean compactness           0\n",
      "mean concavity             0\n",
      "mean concave points        0\n",
      "mean symmetry              0\n",
      "mean fractal dimension     0\n",
      "radius error               0\n",
      "texture error              0\n",
      "perimeter error            0\n",
      "area error                 0\n",
      "smoothness error           0\n",
      "compactness error          0\n",
      "concavity error            0\n",
      "concave points error       0\n",
      "symmetry error             0\n",
      "fractal dimension error    0\n",
      "worst radius               0\n",
      "worst texture              0\n",
      "worst perimeter            0\n",
      "worst area                 0\n",
      "worst smoothness           0\n",
      "worst compactness          0\n",
      "worst concavity            0\n",
      "worst concave points       0\n",
      "worst symmetry             0\n",
      "worst fractal dimension    0\n",
      "target                     0\n",
      "dtype: int64\n"
     ]
    }
   ],
   "source": [
    "print(\"\\nEksik Değer Sayısı:\\n\", df.isnull().sum())"
   ]
  },
  {
   "cell_type": "code",
   "execution_count": 10,
   "id": "d52e658a-664d-4e53-9274-80702fc574ee",
   "metadata": {
    "scrolled": true
   },
   "outputs": [
    {
     "name": "stdout",
     "output_type": "stream",
     "text": [
      "\n",
      "Tekrarlanan Satır Sayısı: 0\n"
     ]
    }
   ],
   "source": [
    "print(\"\\nTekrarlanan Satır Sayısı:\", df.duplicated().sum())"
   ]
  },
  {
   "cell_type": "code",
   "execution_count": 11,
   "id": "90c5c3b5-cbbc-4825-9684-93f86b2d710b",
   "metadata": {},
   "outputs": [
    {
     "name": "stdout",
     "output_type": "stream",
     "text": [
      "\n",
      "Varyansı 0.001'dan düşük olan sütunlar çıkarıldı: ['mean smoothness', 'mean symmetry', 'mean fractal dimension', 'smoothness error', 'compactness error', 'concavity error', 'concave points error', 'symmetry error', 'fractal dimension error', 'worst smoothness', 'worst fractal dimension']\n",
      "\n",
      "Eski Veri Setinin Boyutu: (569, 20)\n",
      "\n",
      "Güncellenmiş Veri Setinin Boyutu (Varyans Düşük Sütunlar Çıkarıldıktan Sonra): (569, 20)\n"
     ]
    }
   ],
   "source": [
    "# Düşük varyans belirleme \n",
    "low_variance_cols = []\n",
    "variance_threshold = 0.001 # Çok düşük bir eşik değer\n",
    "# Düşük varyans = çok düşük değişim, demek ki tüm veri setinde neredeyse aynı öyleyse tahmin için ihtiyacımız olmayabilir\n",
    "for col in df.columns[:-1]: # Hedef değişken hariç tutma\n",
    "    if df[col].var() < variance_threshold:\n",
    "        low_variance_cols.append(col)\n",
    "\n",
    "shape_before_removing = df.shape\n",
    "print(\"\\nEski Veri Setinin Boyutu:\", df.shape)\n",
    "df = df.drop(columns=low_variance_cols) # Bu sütunları (özellikleri) verisetinden çıkarma \n",
    "print(f\"\\nVaryansı {variance_threshold}'dan düşük olan sütunlar çıkarıldı: {low_variance_cols}\")\n",
    "\n",
    "print(\"\\nGüncellenmiş Veri Setinin Boyutu (Varyans Düşük Sütunlar Çıkarıldıktan Sonra):\", df.shape)"
   ]
  },
  {
   "cell_type": "code",
   "execution_count": 12,
   "id": "1b559a28-cc57-440d-a069-665d1379a346",
   "metadata": {},
   "outputs": [
    {
     "name": "stdout",
     "output_type": "stream",
     "text": [
      "\n",
      "Korelasyonu 0.8'dan yüksek olan sütunlar çıkarıldı: {'worst concavity', 'mean concavity', 'worst compactness', 'mean area', 'perimeter error', 'worst radius', 'worst texture', 'area error', 'worst concave points', 'worst perimeter', 'mean perimeter', 'worst area', 'mean concave points'}\n",
      "\n",
      "Güncellenmiş Veri Setinin Boyutu (Yüksek Korelasyonlu Sütunlar Çıkarıldıktan Sonra): (569, 7)\n",
      "\n",
      "İşlenmiş Veri Setinin İlk 5 Satırı:\n",
      "    mean radius  mean texture  mean compactness  radius error  texture error  \\\n",
      "0        17.99         10.38           0.27760        1.0950         0.9053   \n",
      "1        20.57         17.77           0.07864        0.5435         0.7339   \n",
      "2        19.69         21.25           0.15990        0.7456         0.7869   \n",
      "3        11.42         20.38           0.28390        0.4956         1.1560   \n",
      "4        20.29         14.34           0.13280        0.7572         0.7813   \n",
      "\n",
      "   worst symmetry  target  \n",
      "0          0.4601       0  \n",
      "1          0.2750       0  \n",
      "2          0.3613       0  \n",
      "3          0.6638       0  \n",
      "4          0.2364       0  \n",
      "<class 'pandas.core.frame.DataFrame'>\n",
      "RangeIndex: 569 entries, 0 to 568\n",
      "Data columns (total 7 columns):\n",
      " #   Column            Non-Null Count  Dtype  \n",
      "---  ------            --------------  -----  \n",
      " 0   mean radius       569 non-null    float64\n",
      " 1   mean texture      569 non-null    float64\n",
      " 2   mean compactness  569 non-null    float64\n",
      " 3   radius error      569 non-null    float64\n",
      " 4   texture error     569 non-null    float64\n",
      " 5   worst symmetry    569 non-null    float64\n",
      " 6   target            569 non-null    int64  \n",
      "dtypes: float64(6), int64(1)\n",
      "memory usage: 31.2 KB\n",
      "\n",
      "İşlenmiş Veri Seti Bilgileri:\n",
      " None\n",
      "\n",
      "Hedef Değişken Dağılımı (Son Hali):\n",
      " target\n",
      "1    357\n",
      "0    212\n",
      "Name: count, dtype: int64\n"
     ]
    },
    {
     "data": {
      "image/png": "[encoded data removed]",
      "text/plain": [
       "<Figure size 640x480 with 1 Axes>"
      ]
     },
     "metadata": {},
     "output_type": "display_data"
    }
   ],
   "source": [
    "# Korelasyon matrisini hesaplayalım (mutlak değerini alıyoruz)\n",
    "correlation_matrix = df.corr().abs()\n",
    "\n",
    "# Üst üçgeni alalım (tekrar eden çiftleri önlemek için)\n",
    "upper_triangle = np.triu(correlation_matrix, k=1)\n",
    "\n",
    "# Yüksek korelasyonlu sütun çiftlerini bulalım ve saklayalım\n",
    "cols_to_drop = set()\n",
    "correlation_threshold = 0.8\n",
    "\n",
    "for i in range(upper_triangle.shape[0]):\n",
    "    for j in range(upper_triangle.shape[1]):\n",
    "        if upper_triangle[i, j] > correlation_threshold:\n",
    "            col_name = correlation_matrix.columns[j]\n",
    "            cols_to_drop.add(col_name)\n",
    "\n",
    "# Hedef değişkenini çıkarmayalım\n",
    "if 'target' in cols_to_drop:\n",
    "    cols_to_drop.remove('target')\n",
    "\n",
    "# Yüksek korelasyonlu sütunları veri çerçevesinden çıkaralım\n",
    "df = df.drop(columns=cols_to_drop)\n",
    "print(f\"\\nKorelasyonu {correlation_threshold}'dan yüksek olan sütunlar çıkarıldı: {cols_to_drop}\")\n",
    "print(\"\\nGüncellenmiş Veri Setinin Boyutu (Yüksek Korelasyonlu Sütunlar Çıkarıldıktan Sonra):\", df.shape)\n",
    "\n",
    "# Veri setinin son halini inceleyelim\n",
    "print(\"\\nİşlenmiş Veri Setinin İlk 5 Satırı:\\n\", df.head())\n",
    "print(\"\\nİşlenmiş Veri Seti Bilgileri:\\n\", df.info())\n",
    "\n",
    "# Hedef değişken dağılımını kontrol edelim\n",
    "print(\"\\nHedef Değişken Dağılımı (Son Hali):\\n\", df['target'].value_counts())\n",
    "sns.countplot(x='target', data=df)\n",
    "plt.title('Hedef Değişken Dağılımı (0: Kötü Huylu, 1: İyi Huylu)')\n",
    "plt.show()"
   ]
  },
  {
   "cell_type": "code",
   "execution_count": 13,
   "id": "771762bd-e899-4237-886f-4634034c0cb4",
   "metadata": {},
   "outputs": [
    {
     "name": "stdout",
     "output_type": "stream",
     "text": [
      "\n",
      "Veri Eğitim ve Test Kümelerine Ayrıldı:\n",
      "Eğitim Kümesi Boyutu: (398, 6)\n",
      "Test Kümesi Boyutu: (171, 6)\n"
     ]
    }
   ],
   "source": [
    "from sklearn.model_selection import train_test_split\n",
    "\n",
    "# Özellikler (X) ve hedef değişken (y)\n",
    "X = df.drop('target', axis=1) # 'target' sütunu hariç tüm sütunlar özelliklerdir\n",
    "y = df['target'] # 'target' sütunu hedef değişkendir\n",
    "\n",
    "# Veri setini eğitim ve test kümelerine ayıralım\n",
    "X_train, X_test, y_train, y_test = train_test_split(X, y, test_size=0.3, random_state=42, stratify=y)\n",
    "# train_test_split: veriyi eğitim ve test kümelerine ayırma fonksiyonu\n",
    "# test_size: test kümesinin veri setinin ne kadarını oluşturacağını belirtir (0.3 = %30)\n",
    "# random_state: rastgele bölme işleminin tekrarlanabilir olması için sabit bir değer\n",
    "# stratify=y: hedef değişkenin sınıf oranlarının eğitim ve test kümelerinde korunmasını sağlar\n",
    "\n",
    "print(\"\\nVeri Eğitim ve Test Kümelerine Ayrıldı:\")\n",
    "print(\"Eğitim Kümesi Boyutu:\", X_train.shape)\n",
    "print(\"Test Kümesi Boyutu:\", X_test.shape)"
   ]
  },
  {
   "cell_type": "code",
   "execution_count": 14,
   "id": "6ef26c1a-4448-425d-80bc-887842c790ef",
   "metadata": {},
   "outputs": [
    {
     "name": "stdout",
     "output_type": "stream",
     "text": [
      "\n",
      "Hiperparametre Ayarlama Başlıyor (Lojistik Regresyon, SVM ve KNN için)...\n",
      "\n",
      "--- Lojistik Regresyon Hiperparametre Ayarlama ---\n",
      "En İyi Parametreler: {'classifier__C': 100, 'classifier__penalty': 'l1', 'classifier__solver': 'liblinear'}\n",
      "En İyi ROC AUC Skoru (Çapraz Doğrulama): 0.9852137931034483\n",
      "\n",
      "--- Destek Vektör Makineleri (SVM) Hiperparametre Ayarlama ---\n",
      "En İyi Parametreler: {'classifier__C': 1, 'classifier__gamma': 0.1, 'classifier__kernel': 'rbf'}\n",
      "En İyi ROC AUC Skoru (Çapraz Doğrulama): 0.986248275862069\n",
      "\n",
      "--- K-En Yakın Komşu (KNN) Hiperparametre Ayarlama ---\n",
      "En İyi Parametreler: {'classifier__algorithm': 'auto', 'classifier__n_neighbors': 13, 'classifier__weights': 'distance'}\n",
      "En İyi ROC AUC Skoru (Çapraz Doğrulama): 0.977510344827586\n",
      "\n",
      "Hiperparametre Ayarlama Tamamlandı (Lojistik Regresyon, SVM ve KNN için).\n"
     ]
    }
   ],
   "source": [
    "from sklearn.model_selection import GridSearchCV\n",
    "from sklearn.preprocessing import StandardScaler\n",
    "from sklearn.linear_model import LogisticRegression\n",
    "from sklearn.svm import SVC\n",
    "from sklearn.neighbors import KNeighborsClassifier # KNN algoritmasını ekledik\n",
    "from sklearn.pipeline import Pipeline\n",
    "\n",
    "# Veri bölme işleminin daha önce yapıldığını varsayıyoruz:\n",
    "# X_train, X_test, y_train, y_test = train_test_split(X, y, test_size=0.3, random_state=42, stratify=y)\n",
    "\n",
    "print(\"\\nHiperparametre Ayarlama Başlıyor (Lojistik Regresyon, SVM ve KNN için)...\")\n",
    "\n",
    "# 1. Lojistik Regresyon için Hiperparametre Ayarlama (önceki kod ile aynı)\n",
    "logistic_pipeline = Pipeline([\n",
    "    ('scaler', StandardScaler()),\n",
    "    ('classifier', LogisticRegression(random_state=42))\n",
    "])\n",
    "\n",
    "logistic_param_grid = {\n",
    "    'classifier__C': [0.001, 0.01, 0.1, 1, 10, 100],\n",
    "    'classifier__penalty': ['l1', 'l2'],\n",
    "    'classifier__solver': ['liblinear', 'saga']\n",
    "}\n",
    "\n",
    "logistic_grid_search = GridSearchCV(logistic_pipeline, logistic_param_grid, cv=5, scoring='roc_auc', n_jobs=-1)\n",
    "logistic_grid_search.fit(X_train, y_train)\n",
    "\n",
    "best_logistic_model = logistic_grid_search.best_estimator_\n",
    "best_logistic_auc = logistic_grid_search.best_score_\n",
    "best_logistic_params = logistic_grid_search.best_params_\n",
    "\n",
    "print(\"\\n--- Lojistik Regresyon Hiperparametre Ayarlama ---\")\n",
    "print(\"En İyi Parametreler:\", best_logistic_params)\n",
    "print(\"En İyi ROC AUC Skoru (Çapraz Doğrulama):\", best_logistic_auc)\n",
    "\n",
    "# 2. SVM için Hiperparametre Ayarlama\n",
    "svm_pipeline = Pipeline([\n",
    "    ('scaler', StandardScaler()),\n",
    "    ('classifier', SVC(random_state=42, probability=True))\n",
    "])\n",
    "\n",
    "svm_param_grid = {\n",
    "    'classifier__C': [0.1, 1, 10, 100],\n",
    "    'classifier__gamma': ['scale', 'auto', 0.1, 1],\n",
    "    'classifier__kernel': ['rbf', 'linear']\n",
    "}\n",
    "\n",
    "svm_grid_search = GridSearchCV(svm_pipeline, svm_param_grid, cv=5, scoring='roc_auc', n_jobs=-1)\n",
    "svm_grid_search.fit(X_train, y_train)\n",
    "\n",
    "best_svm_model = svm_grid_search.best_estimator_\n",
    "best_svm_auc = svm_grid_search.best_score_\n",
    "best_svm_params = svm_grid_search.best_params_\n",
    "\n",
    "print(\"\\n--- Destek Vektör Makineleri (SVM) Hiperparametre Ayarlama ---\")\n",
    "print(\"En İyi Parametreler:\", best_svm_params)\n",
    "print(\"En İyi ROC AUC Skoru (Çapraz Doğrulama):\", best_svm_auc)\n",
    "\n",
    "# 3. KNN için Hiperparametre Ayarlama\n",
    "knn_pipeline = Pipeline([\n",
    "    ('scaler', StandardScaler()),\n",
    "    ('classifier', KNeighborsClassifier()) # KNN sınıflandırıcısını ekledik\n",
    "])\n",
    "\n",
    "knn_param_grid = {\n",
    "    'classifier__n_neighbors': range(3, 15), # Komşu sayısı (K değeri) için denenecek değerler\n",
    "    'classifier__weights': ['uniform', 'distance'], # Ağırlıklandırma şeması ('uniform': tüm komşular eşit ağırlıkta, 'distance': uzaklığa göre ağırlıklandırma)\n",
    "    'classifier__algorithm': ['auto', 'ball_tree', 'kd_tree', 'brute'] # Komşu arama algoritması\n",
    "}\n",
    "\n",
    "knn_grid_search = GridSearchCV(knn_pipeline, knn_param_grid, cv=5, scoring='roc_auc', n_jobs=-1)\n",
    "knn_grid_search.fit(X_train, y_train)\n",
    "\n",
    "best_knn_model = knn_grid_search.best_estimator_\n",
    "best_knn_auc = knn_grid_search.best_score_\n",
    "best_knn_params = knn_grid_search.best_params_\n",
    "\n",
    "print(\"\\n--- K-En Yakın Komşu (KNN) Hiperparametre Ayarlama ---\")\n",
    "print(\"En İyi Parametreler:\", best_knn_params)\n",
    "print(\"En İyi ROC AUC Skoru (Çapraz Doğrulama):\", best_knn_auc)\n",
    "\n",
    "print(\"\\nHiperparametre Ayarlama Tamamlandı (Lojistik Regresyon, SVM ve KNN için).\")"
   ]
  },
  {
   "cell_type": "code",
   "execution_count": 15,
   "id": "3fb83d86-a391-4389-86da-d1a2f4ac0391",
   "metadata": {},
   "outputs": [
    {
     "name": "stdout",
     "output_type": "stream",
     "text": [
      "\n",
      "En İyi Modellerin Test Seti Performansı:\n",
      "\n",
      "--- En İyi Lojistik Regresyon ---\n",
      "Doğruluk (Accuracy): 0.9240\n",
      "ROC AUC Skoru: 0.9822\n",
      "\n",
      "--- En İyi Destek Vektör Makineleri (SVM) ---\n",
      "Doğruluk (Accuracy): 0.9298\n",
      "ROC AUC Skoru: 0.9787\n",
      "\n",
      "--- En İyi KNN (KNN) ---\n",
      "Doğruluk (Accuracy): 0.9357\n",
      "ROC AUC Skoru: 0.9682\n"
     ]
    },
    {
     "data": {
      "image/png": "[encoded data removed]",
      "text/plain": [
       "<Figure size 1000x600 with 1 Axes>"
      ]
     },
     "metadata": {},
     "output_type": "display_data"
    }
   ],
   "source": [
    "# En iyi modelleri test verisi üzerinde değerlendirelim (isteğe bağlı)\n",
    "from sklearn.metrics import accuracy_score, classification_report, confusion_matrix, roc_auc_score, roc_curve\n",
    "import matplotlib.pyplot as plt\n",
    "\n",
    "print(\"\\nEn İyi Modellerin Test Seti Performansı:\")\n",
    "plt.figure(figsize=(10, 6))\n",
    "\n",
    "# En İyi Lojistik Regresyon Modelinin Değerlendirilmesi\n",
    "y_pred_logistic_best = best_logistic_model.predict(X_test)\n",
    "accuracy_logistic_best = accuracy_score(y_test, y_pred_logistic_best)\n",
    "roc_auc_logistic_best = roc_auc_score(y_test, best_logistic_model.predict_proba(X_test)[:, 1])\n",
    "fpr_logistic_best, tpr_logistic_best, _ = roc_curve(y_test, best_logistic_model.predict_proba(X_test)[:, 1])\n",
    "\n",
    "print(\"\\n--- En İyi Lojistik Regresyon ---\")\n",
    "print(f\"Doğruluk (Accuracy): {accuracy_logistic_best:.4f}\")\n",
    "print(f\"ROC AUC Skoru: {roc_auc_logistic_best:.4f}\")\n",
    "plt.plot(fpr_logistic_best, tpr_logistic_best, label=f'Lojistik Regresyon (AUC = {roc_auc_logistic_best:.2f})')\n",
    "\n",
    "# En İyi SVM Modelinin Değerlendirilmesi\n",
    "y_pred_svm_best = best_svm_model.predict(X_test)\n",
    "accuracy_svm_best = accuracy_score(y_test, y_pred_svm_best)\n",
    "roc_auc_svm_best = roc_auc_score(y_test, best_svm_model.predict_proba(X_test)[:, 1])\n",
    "fpr_svm_best, tpr_svm_best, _ = roc_curve(y_test, best_svm_model.predict_proba(X_test)[:, 1])\n",
    "\n",
    "print(\"\\n--- En İyi Destek Vektör Makineleri (SVM) ---\")\n",
    "print(f\"Doğruluk (Accuracy): {accuracy_svm_best:.4f}\")\n",
    "print(f\"ROC AUC Skoru: {roc_auc_svm_best:.4f}\")\n",
    "plt.plot(fpr_svm_best, tpr_svm_best, label=f'SVM (AUC = {roc_auc_svm_best:.2f})')\n",
    "\n",
    "# En İyi KNN Modelinin Değerlendirilmesi\n",
    "y_pred_knn_best = best_knn_model.predict(X_test)\n",
    "accuracy_knn_best = accuracy_score(y_test, y_pred_knn_best)\n",
    "roc_auc_knn_best = roc_auc_score(y_test, best_knn_model.predict_proba(X_test)[:, 1])\n",
    "fpr_knn_best, tpr_knn_best, _ = roc_curve(y_test, best_knn_model.predict_proba(X_test)[:, 1])\n",
    "\n",
    "print(\"\\n--- En İyi KNN (KNN) ---\")\n",
    "print(f\"Doğruluk (Accuracy): {accuracy_knn_best:.4f}\")\n",
    "print(f\"ROC AUC Skoru: {roc_auc_knn_best:.4f}\")\n",
    "plt.plot(fpr_knn_best, tpr_knn_best, label=f'KNN (AUC = {roc_auc_knn_best:.2f})')\n",
    "\n",
    "plt.plot([0, 1], [0, 1], 'k--')\n",
    "plt.xlabel('Yanlış Pozitif Oranı')\n",
    "plt.ylabel('Doğru Pozitif Oranı')\n",
    "plt.title('En İyi Modellerin ROC Eğrileri')\n",
    "plt.legend()\n",
    "plt.show()"
   ]
  },
  {
   "cell_type": "code",
   "execution_count": null,
   "id": "5551a762-56a5-4998-9978-4f26678faa1a",
   "metadata": {},
   "outputs": [],
   "source": []
  }
 ],
 "metadata": {
  "kernelspec": {
   "display_name": "SCILEARN-KERNEL",
   "language": "python",
   "name": "scilearn-kernel"
  },
  "language_info": {
   "codemirror_mode": {
    "name": "ipython",
    "version": 3
   },
   "file_extension": ".py",
   "mimetype": "text/x-python",
   "name": "python",
   "nbconvert_exporter": "python",
   "pygments_lexer": "ipython3",
   "version": "3.12.4"
  }
 },
 "nbformat": 4,
 "nbformat_minor": 5
}
